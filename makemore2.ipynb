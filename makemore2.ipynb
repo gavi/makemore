{
 "cells": [
  {
   "cell_type": "code",
   "execution_count": 165,
   "metadata": {},
   "outputs": [],
   "source": [
    "import torch\n",
    "import torch.nn.functional as F\n",
    "import matplotlib.pyplot as plt"
   ]
  },
  {
   "cell_type": "code",
   "execution_count": 166,
   "metadata": {},
   "outputs": [],
   "source": [
    "words = open('names.txt').read().splitlines()\n",
    "chars = sorted(set(''.join(words)))\n",
    "stoi = {c:i+1 for i,c in enumerate(chars)}\n",
    "stoi['.'] = 0\n",
    "itos = {i:ch for ch,i in stoi.items()}"
   ]
  },
  {
   "cell_type": "code",
   "execution_count": 167,
   "metadata": {},
   "outputs": [],
   "source": [
    "block_size = 3\n",
    "\n",
    "X, Y = [], []\n",
    "for w in words:\n",
    "    context = [0] * block_size\n",
    "    for ch in w+'.':\n",
    "        ix = stoi[ch]\n",
    "        X.append(context)\n",
    "        Y.append(ix)\n",
    "        context = context[1:] + [ix]"
   ]
  },
  {
   "cell_type": "code",
   "execution_count": 181,
   "metadata": {},
   "outputs": [
    {
     "name": "stderr",
     "output_type": "stream",
     "text": [
      "/var/folders/x5/7qcf1mt92k71h44cb4x2pb1h0000gn/T/ipykernel_22361/3487965575.py:1: UserWarning: To copy construct from a tensor, it is recommended to use sourceTensor.clone().detach() or sourceTensor.clone().detach().requires_grad_(True), rather than torch.tensor(sourceTensor).\n",
      "  X = torch.tensor(X)\n",
      "/var/folders/x5/7qcf1mt92k71h44cb4x2pb1h0000gn/T/ipykernel_22361/3487965575.py:2: UserWarning: To copy construct from a tensor, it is recommended to use sourceTensor.clone().detach() or sourceTensor.clone().detach().requires_grad_(True), rather than torch.tensor(sourceTensor).\n",
      "  Y = torch.tensor(Y)\n"
     ]
    },
    {
     "data": {
      "text/plain": [
       "(tensor([[ 0,  0,  0],\n",
       "         [ 0,  0,  5],\n",
       "         [ 0,  5, 13],\n",
       "         ...,\n",
       "         [26, 26, 25],\n",
       "         [26, 25, 26],\n",
       "         [25, 26, 24]]),\n",
       " tensor([ 5, 13, 13,  ..., 26, 24,  0]))"
      ]
     },
     "execution_count": 181,
     "metadata": {},
     "output_type": "execute_result"
    }
   ],
   "source": [
    "X = torch.tensor(X)\n",
    "Y = torch.tensor(Y)\n",
    "X,Y"
   ]
  },
  {
   "cell_type": "code",
   "execution_count": 169,
   "metadata": {},
   "outputs": [
    {
     "name": "stdout",
     "output_type": "stream",
     "text": [
      "tensor([0.8987, 0.4960])\n"
     ]
    },
    {
     "data": {
      "text/plain": [
       "tensor([0.8987, 0.4960])"
      ]
     },
     "execution_count": 169,
     "metadata": {},
     "output_type": "execute_result"
    }
   ],
   "source": [
    "C = torch.rand((27,2))\n",
    "print(C[5])\n",
    "F.one_hot(torch.tensor(5),num_classes=27).float() @ C\n"
   ]
  },
  {
   "cell_type": "code",
   "execution_count": 170,
   "metadata": {},
   "outputs": [
    {
     "data": {
      "text/plain": [
       "tensor([[[0.8541, 0.8664],\n",
       "         [0.8541, 0.8664],\n",
       "         [0.8541, 0.8664]],\n",
       "\n",
       "        [[0.8541, 0.8664],\n",
       "         [0.8541, 0.8664],\n",
       "         [0.8987, 0.4960]],\n",
       "\n",
       "        [[0.8541, 0.8664],\n",
       "         [0.8987, 0.4960],\n",
       "         [0.2762, 0.7264]],\n",
       "\n",
       "        ...,\n",
       "\n",
       "        [[0.8742, 0.3597],\n",
       "         [0.8742, 0.3597],\n",
       "         [0.9686, 0.9808]],\n",
       "\n",
       "        [[0.8742, 0.3597],\n",
       "         [0.9686, 0.9808],\n",
       "         [0.8742, 0.3597]],\n",
       "\n",
       "        [[0.9686, 0.9808],\n",
       "         [0.8742, 0.3597],\n",
       "         [0.3023, 0.3977]]])"
      ]
     },
     "execution_count": 170,
     "metadata": {},
     "output_type": "execute_result"
    }
   ],
   "source": [
    "emb = C[X]\n",
    "emb.shape\n",
    "#C is just initialized to random at the begining\n",
    "C[X]\n",
    "#Each character is represented as an embedding"
   ]
  },
  {
   "cell_type": "code",
   "execution_count": 171,
   "metadata": {},
   "outputs": [
    {
     "data": {
      "text/plain": [
       "3481"
      ]
     },
     "execution_count": 171,
     "metadata": {},
     "output_type": "execute_result"
    }
   ],
   "source": [
    "C = torch.randn(27,2)\n",
    "W1 = torch.randn(6,100) #3 context size, 2 embedding dimensions (3*2 = 6) times 100 neurons\n",
    "b1 = torch.randn(100)\n",
    "W2 = torch.randn(100,27)\n",
    "b2 = torch.randn(27)\n",
    "parameters = [C,W1,b1,W2,b2]\n",
    "sum(p.nelement() for p in parameters)"
   ]
  },
  {
   "cell_type": "code",
   "execution_count": 172,
   "metadata": {},
   "outputs": [],
   "source": [
    "for p in parameters:\n",
    "    p.requires_grad=True"
   ]
  },
  {
   "cell_type": "code",
   "execution_count": 173,
   "metadata": {},
   "outputs": [
    {
     "data": {
      "text/plain": [
       "tensor([194340,   3754,   2893,   5198, 124086, 146131,  80504, 221801,  33120,\n",
       "        120853, 105910, 187737,  91380, 104856,  35085, 157868, 181399, 128229,\n",
       "        142501, 202961, 166472,  52703, 185496, 220669,  17649,  53013, 139956,\n",
       "         95498, 153873, 172006, 132109, 161594])"
      ]
     },
     "execution_count": 173,
     "metadata": {},
     "output_type": "execute_result"
    }
   ],
   "source": [
    "torch.randint(X.shape[0],(32,))"
   ]
  },
  {
   "cell_type": "code",
   "execution_count": 186,
   "metadata": {},
   "outputs": [],
   "source": [
    "for i in range(10000):\n",
    "    #pick a few in random\n",
    "    ix = torch.randint(X.shape[0],(32,))\n",
    "    emb = C[X[ix]]\n",
    "    h = torch.tanh(emb.view(-1,6)@W1 + b1)\n",
    "    logits = h @ W2 + b2\n",
    "    loss = F.cross_entropy(logits,Y[ix])\n",
    "    for p in parameters:\n",
    "        p.grad = None\n",
    "\n",
    "    loss.backward()\n",
    "\n",
    "    for p in parameters:\n",
    "        p.data  += -0.1 * p.grad"
   ]
  },
  {
   "cell_type": "code",
   "execution_count": 187,
   "metadata": {},
   "outputs": [
    {
     "data": {
      "text/plain": [
       "tensor(2.4436, grad_fn=<NllLossBackward0>)"
      ]
     },
     "execution_count": 187,
     "metadata": {},
     "output_type": "execute_result"
    }
   ],
   "source": [
    "loss"
   ]
  },
  {
   "cell_type": "code",
   "execution_count": 188,
   "metadata": {},
   "outputs": [
    {
     "data": {
      "text/plain": [
       "tensor(2.3682, grad_fn=<NllLossBackward0>)"
      ]
     },
     "execution_count": 188,
     "metadata": {},
     "output_type": "execute_result"
    }
   ],
   "source": [
    "emb = C[X]\n",
    "h = torch.tanh(emb.view(-1,6)@W1 + b1)\n",
    "logits = h @ W2 + b2\n",
    "loss = F.cross_entropy(logits,Y)\n",
    "loss"
   ]
  },
  {
   "cell_type": "code",
   "execution_count": 176,
   "metadata": {},
   "outputs": [
    {
     "data": {
      "text/plain": [
       "tensor([[-0.2042, -0.9946],\n",
       "        [ 0.2455, -0.6327],\n",
       "        [ 0.2217,  0.3123],\n",
       "        [ 0.3745, -0.0791],\n",
       "        [ 0.3680,  0.0220],\n",
       "        [ 0.1054, -0.3909],\n",
       "        [ 0.3436,  0.0716],\n",
       "        [ 0.1916, -0.1086],\n",
       "        [ 0.5084, -0.1514],\n",
       "        [-0.0076, -0.3156],\n",
       "        [ 0.5291, -0.0564],\n",
       "        [ 0.4697, -0.0685],\n",
       "        [ 0.2147,  0.1488],\n",
       "        [ 0.5101, -0.0647],\n",
       "        [ 0.4524, -0.2692],\n",
       "        [ 0.0895, -0.5555],\n",
       "        [ 0.3553, -0.0553],\n",
       "        [ 0.6031,  0.6842],\n",
       "        [ 0.3975, -0.1042],\n",
       "        [ 0.3477, -0.1625],\n",
       "        [ 0.2751, -0.1343],\n",
       "        [ 0.0461, -0.4239],\n",
       "        [ 0.4213,  0.0716],\n",
       "        [ 0.3473, -0.0347],\n",
       "        [ 0.4499, -0.1687],\n",
       "        [-0.0645, -0.3376],\n",
       "        [ 0.4627, -0.0048]])"
      ]
     },
     "execution_count": 176,
     "metadata": {},
     "output_type": "execute_result"
    }
   ],
   "source": [
    "C_vis = C.detach()\n",
    "C_vis"
   ]
  },
  {
   "cell_type": "code",
   "execution_count": 177,
   "metadata": {},
   "outputs": [
    {
     "data": {
      "text/plain": [
       "['.',\n",
       " 'a',\n",
       " 'b',\n",
       " 'c',\n",
       " 'd',\n",
       " 'e',\n",
       " 'f',\n",
       " 'g',\n",
       " 'h',\n",
       " 'i',\n",
       " 'j',\n",
       " 'k',\n",
       " 'l',\n",
       " 'm',\n",
       " 'n',\n",
       " 'o',\n",
       " 'p',\n",
       " 'q',\n",
       " 'r',\n",
       " 's',\n",
       " 't',\n",
       " 'u',\n",
       " 'v',\n",
       " 'w',\n",
       " 'x',\n",
       " 'y',\n",
       " 'z']"
      ]
     },
     "execution_count": 177,
     "metadata": {},
     "output_type": "execute_result"
    }
   ],
   "source": [
    "chars[0] = 'a'\n",
    "labels = ['.']+chars\n",
    "labels"
   ]
  },
  {
   "cell_type": "code",
   "execution_count": 178,
   "metadata": {},
   "outputs": [
    {
     "data": {
      "image/png": "[encoded data removed]",
      "text/plain": [
       "<Figure size 640x480 with 1 Axes>"
      ]
     },
     "metadata": {},
     "output_type": "display_data"
    }
   ],
   "source": [
    "plt.scatter(C_vis[:,0],C_vis[:,1])\n",
    "for i, label in enumerate(labels):\n",
    "    plt.text(C_vis[:,0][i],C_vis[:,1][i], label)\n"
   ]
  }
 ],
 "metadata": {
  "kernelspec": {
   "display_name": "makemore",
   "language": "python",
   "name": "python3"
  },
  "language_info": {
   "codemirror_mode": {
    "name": "ipython",
    "version": 3
   },
   "file_extension": ".py",
   "mimetype": "text/x-python",
   "name": "python",
   "nbconvert_exporter": "python",
   "pygments_lexer": "ipython3",
   "version": "3.11.3"
  },
  "orig_nbformat": 4
 },
 "nbformat": 4,
 "nbformat_minor": 2
}
